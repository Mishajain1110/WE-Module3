{
  "nbformat": 4,
  "nbformat_minor": 0,
  "metadata": {
    "colab": {
      "provenance": []
    },
    "kernelspec": {
      "name": "python3",
      "display_name": "Python 3"
    },
    "language_info": {
      "name": "python"
    }
  },
  "cells": [
    {
      "cell_type": "code",
      "execution_count": 2,
      "metadata": {
        "id": "SvNZF6xXWtSl"
      },
      "outputs": [],
      "source": [
        "def oddEven(n: int) -> str:\n",
        "    return 'o' if n % 2 == 1 else 'e'\n",
        "\n",
        "def distributeA(idlis: list[int]) -> int:\n",
        "    if sum(idlis) % 2 == 1:\n",
        "        return -1\n",
        "    line = ''.join([oddEven(_) for _ in idlis])\n",
        "    return distributeB(line)\n",
        "\n",
        "def distributeB(line: str) -> int:\n",
        "    if len(line) < 2:\n",
        "        return 0\n",
        "    if line[:2] == 'ee':\n",
        "        return distributeB(line[2:])\n",
        "    if line[:2] == 'oo':\n",
        "        return 2 + distributeB(line[2:])\n",
        "    if line[0] == 'e':\n",
        "        return distributeB(line[1:])\n",
        "    else:\n",
        "        return 2 + distributeB('o' + line[2:])"
      ]
    },
    {
      "cell_type": "code",
      "source": [
        "#Testcase 1\n",
        "lis = [2, 4, 1, 6, 9]\n",
        "print(\"Minimum number of idlis distributed for testcase 1 is\", distributeA(lis))"
      ],
      "metadata": {
        "colab": {
          "base_uri": "https://localhost:8080/"
        },
        "id": "1fZymeLFYUG3",
        "outputId": "b4da9235-3bdb-46ad-a59d-cece0881142f"
      },
      "execution_count": 4,
      "outputs": [
        {
          "output_type": "stream",
          "name": "stdout",
          "text": [
            "Minimum number of idlis distributed for testcase 1 is 4\n"
          ]
        }
      ]
    },
    {
      "cell_type": "code",
      "source": [
        "#Testcase 2\n",
        "lis = [2, 5, 1, 6, 10, 12, 67]\n",
        "print(\"Minimum number of idlis distributed for testcase 2 is\", distributeA(lis))"
      ],
      "metadata": {
        "colab": {
          "base_uri": "https://localhost:8080/"
        },
        "id": "RJTGBS0eZbyt",
        "outputId": "a12c873f-ee79-46a2-a635-07d503e7ab9e"
      },
      "execution_count": 7,
      "outputs": [
        {
          "output_type": "stream",
          "name": "stdout",
          "text": [
            "Minimum number of idlis distributed for testcase 2 is -1\n"
          ]
        }
      ]
    },
    {
      "cell_type": "code",
      "source": [
        "#Testcase 3\n",
        "lis = [1, 5, 7, 9, 11, 13, 15, 17, 19, 21, 23, 25, 27, 29, 31, 33, 35, 37, 39, 41, 43, 45, 47, 49, 51, 53]\n",
        "print(\"Minimum number of idlis distributed for testcase 3 is\", distributeA(lis))"
      ],
      "metadata": {
        "colab": {
          "base_uri": "https://localhost:8080/"
        },
        "id": "R6_bSgXIZoEC",
        "outputId": "daaae608-4514-428d-e5b7-db18339d32ae"
      },
      "execution_count": 10,
      "outputs": [
        {
          "output_type": "stream",
          "name": "stdout",
          "text": [
            "Minimum number of idlis distributed for testcase 3 is 26\n"
          ]
        }
      ]
    },
    {
      "cell_type": "code",
      "source": [],
      "metadata": {
        "id": "trsak3RrZ9Z0"
      },
      "execution_count": null,
      "outputs": []
    }
  ]
}