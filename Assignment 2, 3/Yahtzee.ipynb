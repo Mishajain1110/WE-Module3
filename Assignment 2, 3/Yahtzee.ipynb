{
  "nbformat": 4,
  "nbformat_minor": 0,
  "metadata": {
    "colab": {
      "provenance": []
    },
    "kernelspec": {
      "name": "python3",
      "display_name": "Python 3"
    },
    "language_info": {
      "name": "python"
    }
  },
  "cells": [
    {
      "cell_type": "code",
      "execution_count": 1,
      "metadata": {
        "id": "G-__8E6BaaAn"
      },
      "outputs": [],
      "source": [
        "import random\n",
        "\n",
        "def rollDice(numDice: int) -> list[int]:\n",
        "    if numDice <= 0:\n",
        "        raise ValueError(\"Must be positive.\")\n",
        "    return [random.randint(1, 6) for _ in range(numDice)]"
      ]
    },
    {
      "cell_type": "code",
      "source": [
        "def score(d : list[int]) -> dict[str, int]:\n",
        "    scores = {\n",
        "        \"ones\": sum(d1 == 1 for d1 in d),\n",
        "        \"twos\": sum(d2 == 2 for d2 in d),\n",
        "        \"threes\": sum(d3 == 3 for d3 in d),\n",
        "        \"fours\": sum(d4 == 4 for d4 in d),\n",
        "        \"fives\": sum(d5 == 5 for d5 in d),\n",
        "        \"sixes\": sum(d6 == 6 for d6 in d),\n",
        "        \"three_of_a_kind\": sum(d) if len(set(d)) <= 3 else 0,\n",
        "        \"four_of_a_kind\": sum(d) if len(set(d)) <= 2 else 0,\n",
        "        \"full_house\": 25 if (len(set(d)) == 2 and (2 in d.count(d[0]) or 3 in d.count(d[0]))) else 0,\n",
        "        \"small_straight\": 30 if sorted(d) == [1, 2, 3, 4] or sorted(d) == [2, 3, 4, 5] else 0,\n",
        "        \"large_straight\": 40 if sorted(d) == [1, 2, 3, 4, 5] or sorted(d) == [2, 3, 4, 5, 6] else 0,\n",
        "        \"chance\": sum(d),\n",
        "        \"yahtzee\": 50 if all(d.count(val) == 1 for val in d) else 0,\n",
        "    }\n",
        "    return scores"
      ],
      "metadata": {
        "id": "l2uLHlsaa7Yd"
      },
      "execution_count": 2,
      "outputs": []
    },
    {
      "cell_type": "code",
      "source": [
        "def calcScore(dice: list[int], cat: str) -> int:\n",
        "    if not all(1 <= d <= 6 for d in dice):\n",
        "        return 0\n",
        "    scores = {\n",
        "        \"yahtzee\": lambda dice: 50 if all(d1 == dice[0] for d1 in dice[1:]) else 0,\n",
        "        \"full_house\": lambda dice: 25 if (len(set(dice)) == 2 and (2 in dice.count(dice[0]) or 3 in dice.count(dice[0]))) else 0,\n",
        "    }\n",
        "    if cat.lower() in scores:\n",
        "        return scores[cat.lower()](dice)\n",
        "\n",
        "    return 0"
      ],
      "metadata": {
        "id": "kAknKabkcucS"
      },
      "execution_count": 3,
      "outputs": []
    },
    {
      "cell_type": "code",
      "source": [
        "def bestMove(dice: list[int], currScores: dict[str, bool]) -> str:\n",
        "    bestScore = 0\n",
        "    bestCat = None\n",
        "    for cat, curr in currScores.items():\n",
        "        if curr:\n",
        "            catScore = calcScore(dice, cat)\n",
        "            if catScore > bestScore and catScore in (50, 40, 25):\n",
        "                bestScore = catScore\n",
        "                bestCat = cat\n",
        "    return bestCat or \"reroll\""
      ],
      "metadata": {
        "id": "Zb3QQfLFeJiU"
      },
      "execution_count": 4,
      "outputs": []
    },
    {
      "cell_type": "code",
      "source": [
        "def showDice(dice: list[int]) -> None:\n",
        "    print(\"The die which you have rolled is \")\n",
        "    for die in dice:\n",
        "        print(f\"[Die{dice.index(die) + 1}] {die}\")"
      ],
      "metadata": {
        "id": "7VB2uxA5e5q7"
      },
      "execution_count": 5,
      "outputs": []
    },
    {
      "cell_type": "code",
      "source": [
        "def showScore(curr_score: dict[str, bool]) -> None:\n",
        "    print(\"Available categories are \")\n",
        "    for cat, curr in curr_score.items():\n",
        "        if curr:\n",
        "            score = calcScore(getRolledDice(), cat) # let getRolledDice() function exists\n",
        "            print(f\"{category}: {score} (Available)\")\n",
        "        else:\n",
        "            print(f\"{category}: Not available\")"
      ],
      "metadata": {
        "id": "_gAIYxgDfXMU"
      },
      "execution_count": 6,
      "outputs": []
    },
    {
      "cell_type": "code",
      "source": [
        "def trackHistory(score: int, roundNum: int) -> None:\n",
        "    scoreHistory = []\n",
        "    scoreHistory.append((roundNum, score))\n",
        "    print(f\"Round {roundNum} Score: {score}\")"
      ],
      "metadata": {
        "id": "xBrJyMU-gT5S"
      },
      "execution_count": 7,
      "outputs": []
    },
    {
      "cell_type": "code",
      "source": [
        "import unittest\n",
        "import random\n",
        "\n",
        "def rollDice(numDice: int) -> list[int]:\n",
        "    if numDice <= 0:\n",
        "        raise ValueError(\"Must be positive.\")\n",
        "    return [random.randint(1, 6) for _ in range(numDice)]\n",
        "\n",
        "def testRollDice5():\n",
        "    rolledDice = rollDice(5)\n",
        "    if len(rolledDice) != 5:\n",
        "        print(\"Incorrect number of dice rolled.\")\n",
        "        return\n",
        "    for die in rolledDice:\n",
        "        if not(1 <= die <= 6):\n",
        "            print(\"value range exceeded\")\n",
        "            return\n",
        "    print(\"Test passed: rollDice(5) gives valid list.\")\n",
        "\n",
        "def testRollDice0():\n",
        "    try:\n",
        "        rollDice(0)\n",
        "    except ValueError as e:\n",
        "        print(\"Test passed: rollDice(0) raised valueError: \", e)\n",
        "    else:\n",
        "        print(\"Error: rollDice(0) didn't raise valueError.\")\n",
        "\n",
        "def testRollDiceMultiple():\n",
        "    rolls = [rollDice(5) for _ in range(3)]\n",
        "    if rolls[0] == rolls[1]:\n",
        "        print(\"Error: consecutive rolls produced identical outputs.\")\n",
        "    elif rolls[1] == rolls[2]:\n",
        "        print(\"Error: Consecutive rolls produced identical outputs.\")\n",
        "    else:\n",
        "        print(\"Test passed: Multiple rolls produces different results.\")\n",
        "\n",
        "testRollDice5()\n",
        "testRollDice0()\n",
        "testRollDiceMultiple()\n"
      ],
      "metadata": {
        "colab": {
          "base_uri": "https://localhost:8080/"
        },
        "id": "Q6SAZGKDgzze",
        "outputId": "0dcda357-1bc9-455b-a551-77294bee689c"
      },
      "execution_count": 10,
      "outputs": [
        {
          "output_type": "stream",
          "name": "stdout",
          "text": [
            "Test passed: rollDice(5) gives valid list.\n",
            "Test passed: rollDice(0) raised valueError:  Must be positive.\n",
            "Test passed: Multiple rolls produces different results.\n"
          ]
        }
      ]
    },
    {
      "cell_type": "code",
      "source": [],
      "metadata": {
        "id": "RzwspuGYnoRU"
      },
      "execution_count": null,
      "outputs": []
    }
  ]
}